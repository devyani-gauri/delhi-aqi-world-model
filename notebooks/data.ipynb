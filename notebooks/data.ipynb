{
 "cells": [
  {
   "cell_type": "code",
   "execution_count": 3,
   "id": "c8fd7d00",
   "metadata": {},
   "outputs": [],
   "source": [
    "# imports\n",
    "import osmnx as ox\n",
    "import numpy as np\n",
    "import pyvista as pv\n",
    "from shapely.geometry import Polygon, MultiPolygon\n",
    "from pathlib import Path\n",
    "import random\n"
   ]
  },
  {
   "cell_type": "code",
   "execution_count": 4,
   "id": "ab0dd9e9",
   "metadata": {},
   "outputs": [],
   "source": [
    "# extract OSM data for New Delhi\n",
    "\n",
    "def extract_osm_data(location, radius = 500):\n",
    "\n",
    "    # extract center point for the location\n",
    "    center_point = ox.geocoder.geocode(location)\n",
    "\n",
    "    # retrieve buildings based on center point, radius and tags\n",
    "    buildings = ox.features_from_point(\n",
    "        center_point,\n",
    "        tags = {'building': True},\n",
    "        dist = radius\n",
    "    )\n",
    "\n",
    "    # retrieve streets based on center point, radius and network type\n",
    "    streets = ox.graph_from_point(\n",
    "        center_point,\n",
    "        dist = radius, \n",
    "        network_type = 'drive',\n",
    "        simplify = False\n",
    "    )\n",
    "\n",
    "    # convert buildings to GeoDataFrame and set CRS (Coordinate Reference System)\n",
    "    buildings = buildings.to_crs(epsg = 7760)\n",
    "\n",
    "    # convert streets to GeoDataFrame and set CRS\n",
    "    streets = ox.project_graph(streets, to_crs = 'epsg:7760')\n",
    "    print(f\"Downloaded {len(buildings)} buildings and {len(streets.edges())} street segments.\")\n",
    "\n",
    "    return buildings, streets\n"
   ]
  },
  {
   "cell_type": "code",
   "execution_count": null,
   "id": "5c912e2d",
   "metadata": {},
   "outputs": [],
   "source": [
    "extract_osm_data(\"New Delhi, India\", radius=500)"
   ]
  },
  {
   "cell_type": "code",
   "execution_count": null,
   "id": "1a970583",
   "metadata": {},
   "outputs": [],
   "source": []
  }
 ],
 "metadata": {
  "kernelspec": {
   "display_name": "aqi_env",
   "language": "python",
   "name": "python3"
  },
  "language_info": {
   "codemirror_mode": {
    "name": "ipython",
    "version": 3
   },
   "file_extension": ".py",
   "mimetype": "text/x-python",
   "name": "python",
   "nbconvert_exporter": "python",
   "pygments_lexer": "ipython3",
   "version": "3.13.3"
  }
 },
 "nbformat": 4,
 "nbformat_minor": 5
}
